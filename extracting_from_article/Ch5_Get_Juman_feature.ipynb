{
 "cells": [
  {
   "cell_type": "code",
   "execution_count": null,
   "metadata": {
    "collapsed": true
   },
   "outputs": [],
   "source": [
    "from pyknp import KNP"
   ]
  },
  {
   "cell_type": "code",
   "execution_count": null,
   "metadata": {
    "collapsed": false
   },
   "outputs": [],
   "source": [
    "# 定義\n",
    "data_size = 215 # データサイズ\n",
    "skip_file = [107,129,125,151,173,195]\n",
    "\n",
    "file_info = \"./data/input/RS_data/rsdata\" # アノテーションデータのPATH\n",
    "corpus_file = \"corpus_5w1hs_ch5.txt\" # 出力コーパスの名前"
   ]
  },
  {
   "cell_type": "code",
   "execution_count": null,
   "metadata": {
    "collapsed": true
   },
   "outputs": [],
   "source": [
    "def get_iobcorpus(file_name):\n",
    "    \n",
    "    # アノテーション情報用意\n",
    "    file_ann = \"{0}.ann\".format(file_name)\n",
    "    tag_number = [] # アノテーションラベルの先頭番号と末尾番号リスト\n",
    "    tag_vocab = {} # アノテーションラベルの名前と先頭番号\n",
    "    with open(file_ann, 'r') as f:\n",
    "        for i in f.read().split(\"\\n\"):\n",
    "            if len(i) != 0:\n",
    "                t_s = int(i.split()[2]) # アノテーションの先頭\n",
    "                t_e = int(i.split()[3]) # アノテーションの末尾\n",
    "                tag_vocab[t_s] = i.split()[1]\n",
    "                tag_number.append(t_s)\n",
    "                tag_number.append(t_e)\n",
    "    tag_number = sorted(tag_number)\n",
    "    \n",
    "    # 形態素解析\n",
    "    file_txt = \"{0}.txt\".format(file_name)\n",
    "\n",
    "    word_count = -1 # 単語サイズ\n",
    "    n = 0 # タグ番号のインデックス\n",
    "    p = -1 # アノテーションのラベルのインデックス\n",
    "    features_set = [] # 記事の特徴量リスト\n",
    "    \n",
    "    knp = KNP()\n",
    "    with open(file_txt, 'r') as f:\n",
    "        data_text = f.read() # ファイル読み込み\n",
    "        result = knp.parse(data_text)\n",
    "        \n",
    "        for bnst in result.bnst_list(): # 文節\n",
    "            mrph_list = bnst.mrph_list()   \n",
    "            for mrph in mrph_list: # 形態素 \n",
    "                \n",
    "                features = [] # 特徴\n",
    "                word_count += len(mrph.midasi) # 単語サイズ計算\n",
    "                features.extend([mrph.midasi, mrph.hinsi, mrph.bunrui])\n",
    "\n",
    "                # 文末処理\n",
    "                if n >= len(tag_number):\n",
    "                    features.append(\"O\")\n",
    "                    features_set.append(features)\n",
    "                    continue \n",
    "                    \n",
    "                # タグ処理\n",
    "                if n%2 == 0:\n",
    "                    if tag_number[n] <= word_count:\n",
    "                        p = tag_number[n]\n",
    "                        features.append(\"B-{0}\".format(tag_vocab[p]))\n",
    "                        n += 1\n",
    "                    else:\n",
    "                        features.append(\"O\")\n",
    "                elif n%2 != 0:    \n",
    "                    if tag_number[n] <= word_count:\n",
    "                        features.append(\"O\")\n",
    "                        n += 1\n",
    "                    else:                        \n",
    "                        features.append(\"I-{0}\".format(tag_vocab[p]))\n",
    "                        \n",
    "                features_set.append(features)\n",
    "                \n",
    "    return features_set"
   ]
  },
  {
   "cell_type": "code",
   "execution_count": null,
   "metadata": {
    "collapsed": false
   },
   "outputs": [],
   "source": [
    "# main\n",
    "data_sum = 0\n",
    "\n",
    "# 書き出しファイル準備\n",
    "output_f = open(corpus_file, \"w\")\n",
    "\n",
    "for file_id in range(1,data_size+1): \n",
    "    \n",
    "    if file_id in skip_file:\n",
    "        continue\n",
    "        \n",
    "    data_sum += 1\n",
    "    print(file_id,end=\"\")\n",
    "    file_name = \"{0}{1}\".format(file_info,file_id)\n",
    "    for line in get_iobcorpus(file_name):\n",
    "        output_line = \"\\t\".join(line)\n",
    "        output_f.writelines(output_line+\"\\n\")\n",
    "    output_f.writelines(\"\\n\") # 5w1h用の改行コマンド\n",
    "    \n",
    "output_f.close()\n",
    "\n",
    "print(\"\")\n",
    "print(data_sum)"
   ]
  }
 ],
 "metadata": {
  "anaconda-cloud": {},
  "kernelspec": {
   "display_name": "Python [Root]",
   "language": "python",
   "name": "Python [Root]"
  },
  "language_info": {
   "codemirror_mode": {
    "name": "ipython",
    "version": 3
   },
   "file_extension": ".py",
   "mimetype": "text/x-python",
   "name": "python",
   "nbconvert_exporter": "python",
   "pygments_lexer": "ipython3",
   "version": "3.5.2"
  }
 },
 "nbformat": 4,
 "nbformat_minor": 0
}
